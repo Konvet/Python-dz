{
 "cells": [
  {
   "cell_type": "markdown",
   "id": "37922dd1-739c-495c-9dab-a10b4166bcc9",
   "metadata": {},
   "source": [
    "Задание 1\n",
    "Напишите функцию, которая возвращает название валюты (поле ‘Name’) с максимальным значением курса с помощью сервиса www.cbr-xml-daily.ru...ly_json.js"
   ]
  },
  {
   "cell_type": "code",
   "execution_count": 5,
   "id": "2a8267d8-430c-482f-9e18-a5e8468d7eb8",
   "metadata": {},
   "outputs": [],
   "source": [
    "import requests"
   ]
  },
  {
   "cell_type": "code",
   "execution_count": 7,
   "id": "6320cd9e-6ddb-4918-8157-fa559d8619be",
   "metadata": {},
   "outputs": [
    {
     "name": "stdout",
     "output_type": "stream",
     "text": [
      "Бахрейнский динар\n"
     ]
    }
   ],
   "source": [
    "def get_currency_with_max_rate():\n",
    "    url = \"https://www.cbr-xml-daily.ru/daily_json.js\"\n",
    "    response = requests.get(url)\n",
    "    response.raise_for_status()  \n",
    "    data = response.json()\n",
    "        \n",
    "    currencies = data['Valute']\n",
    "        \n",
    "    max_currency = max(currencies.values(), key=lambda x: x['Value'])\n",
    "        \n",
    "    return max_currency['Name']\n",
    "\n",
    "print(get_currency_with_max_rate())               "
   ]
  },
  {
   "cell_type": "markdown",
   "id": "fd3f966e-9893-4ceb-a4c0-ed2fd22b0464",
   "metadata": {},
   "source": [
    "Задание 2\n",
    "Добавьте в класс Rate параметр diff (со значениями True или False), который в случае значения True в методах курсов валют (eur, usd итд) будет возвращать не курс валюты, а изменение по сравнению в прошлым значением. Считайте, self.diff будет принимать значение True только при возврате значения курса. При отображении всей информации о валюте он не используется."
   ]
  },
  {
   "cell_type": "code",
   "execution_count": 12,
   "id": "5879dee5-bc98-4e19-bc45-a9453f2b191c",
   "metadata": {},
   "outputs": [
    {
     "name": "stdout",
     "output_type": "stream",
     "text": [
      "  Название: Евро\n",
      "  Текущий курс: 92.8583\n",
      "  Предыдущий курс: 92.9485\n",
      "  Разница: -0.09019999999999584\n"
     ]
    }
   ],
   "source": [
    "class Rate:\n",
    "    def __init__(self, format_='value', diff=False):\n",
    "        self.format = format_\n",
    "        self.diff = diff\n",
    "    \n",
    "    def exchange_rates(self):\n",
    "        r = requests.get('https://www.cbr-xml-daily.ru/daily_json.js')\n",
    "        return r.json()['Valute']\n",
    "    \n",
    "    def make_format(self, currency_code):\n",
    "        response = self.exchange_rates()\n",
    "        if self.format == 'full':\n",
    "            return response[currency_code]\n",
    "        if self.format == 'value':\n",
    "            if self.diff:\n",
    "                return response[currency_code]['Value'] - response[currency_code]['Previous']\n",
    "            else:\n",
    "                return response[currency_code]['Value']\n",
    "    \n",
    "    def eur(self):\n",
    "        return self.make_format('EUR')\n",
    "    \n",
    "    def usd(self):\n",
    "        return self.make_format('USD')\n",
    "    \n",
    "    def gbp(self):\n",
    "        return self.make_format('GBP')\n",
    "    \n",
    "r = Rate(format_='full')\n",
    "usd_info = r.eur()\n",
    "print(f\"  Название: {usd_info['Name']}\")\n",
    "print(f\"  Текущий курс: {usd_info['Value']}\")\n",
    "print(f\"  Предыдущий курс: {usd_info['Previous']}\")\n",
    "print(f\"  Разница: {usd_info['Value'] - usd_info['Previous']}\")"
   ]
  },
  {
   "cell_type": "markdown",
   "id": "a5692cc1-7df5-40ee-a0af-6bf8016d6471",
   "metadata": {},
   "source": [
    "Комментарий по классу Designer такой:\n",
    "Напишите класс Designer, который учитывает количество международных премий для дизайнеров (из презентации: “Повышение на 1 грейд за каждые 7 баллов. Получение международной премии – это +2 балла”). Считайте, что при выходе на работу сотрудник уже имеет две премии и их количество не меняется со стажем (конечно если хотите это можно вручную менять).\n",
    "\n"
   ]
  },
  {
   "cell_type": "code",
   "execution_count": 16,
   "id": "77b0a8ca-a9e8-4c01-a71a-53d62cddeb51",
   "metadata": {},
   "outputs": [
    {
     "name": "stdout",
     "output_type": "stream",
     "text": [
      "Прохор Шаляпин повысил квалификацию до 4 грейда\n",
      "Прохор Шаляпин имеет квалификацию 4 грейда\n",
      "Прохор Шаляпин получил международную премию! Всего премий: 3\n",
      "Прохор Шаляпин имеет квалификацию 4 грейда\n"
     ]
    }
   ],
   "source": [
    "class Employee:\n",
    "    def __init__(self, name, seniority):\n",
    "        self.name = name\n",
    "        self.seniority = seniority\n",
    "        self.grade = 1\n",
    "    \n",
    "    def grade_up(self):\n",
    "        if self.seniority // 7 > self.grade - 1:\n",
    "            self.grade += 1\n",
    "            print(f\"{self.name} повысил квалификацию до {self.grade} грейда\")\n",
    "    \n",
    "    def publish_grade(self):\n",
    "        print(f\"{self.name} имеет квалификацию {self.grade} грейда\")\n",
    "\n",
    "\n",
    "class Designer(Employee):\n",
    "    def __init__(self, name, seniority, awards=2):\n",
    "        self.awards = awards\n",
    "        bonus_points = awards * 2\n",
    "        total_seniority = seniority + bonus_points\n",
    "        \n",
    "        super().__init__(name, total_seniority)\n",
    "        \n",
    "        self.grade_up()\n",
    "    \n",
    "    def grade_up(self):\n",
    "        expected_grade = self.seniority // 7 + 1\n",
    "        if expected_grade > self.grade:\n",
    "            self.grade = expected_grade\n",
    "            print(f\"{self.name} повысил квалификацию до {self.grade} грейда\")\n",
    "    \n",
    "    def add_award(self):\n",
    "        self.awards += 1\n",
    "        self.seniority += 2 \n",
    "        print(f\"{self.name} получил международную премию! Всего премий: {self.awards}\")\n",
    "        self.grade_up()\n",
    "\n",
    "\n",
    "designer = Designer(\"Прохор Шаляпин\", seniority=20)\n",
    "designer.publish_grade()\n",
    "\n",
    "designer.add_award()\n",
    "designer.publish_grade()"
   ]
  }
 ],
 "metadata": {
  "kernelspec": {
   "display_name": "Python 3 (ipykernel)",
   "language": "python",
   "name": "python3"
  },
  "language_info": {
   "codemirror_mode": {
    "name": "ipython",
    "version": 3
   },
   "file_extension": ".py",
   "mimetype": "text/x-python",
   "name": "python",
   "nbconvert_exporter": "python",
   "pygments_lexer": "ipython3",
   "version": "3.13.1"
  }
 },
 "nbformat": 4,
 "nbformat_minor": 5
}
