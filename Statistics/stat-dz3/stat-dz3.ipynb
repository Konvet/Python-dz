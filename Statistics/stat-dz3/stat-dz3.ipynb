{
 "cells": [
  {
   "cell_type": "markdown",
   "metadata": {
    "id": "YwwsvrnrGZv7"
   },
   "source": [
    " ## Домашнее задание Проверка гипотез"
   ]
  },
  {
   "cell_type": "markdown",
   "metadata": {
    "id": "FOsgMF44GZv8"
   },
   "source": [
    "<div class=\"alert alert-info\">\n",
    "<b>Задание № 1</b>\n",
    "    \n",
    "Разработайте функцию для проверки нормальности распределения выборки данных, используя шаблон ниже. Вы можете использовать один из известных Вам статистических тестов.\n",
    "</div>"
   ]
  },
  {
   "cell_type": "code",
   "execution_count": 1,
   "metadata": {
    "id": "M2tSYeV9GZv9"
   },
   "outputs": [],
   "source": [
    "def check_normality(data):\n",
    "    statistic, p_value = stats.shapiro(data)\n",
    "    if p_value < 0.05:\n",
    "        print(\"Отклоняем нулевую гипотезу >> Данные распределены не нормально\")\n",
    "    else:\n",
    "        print(\"Не отклоняем нулевую гипотезу >> Данные распределены нормально\")"
   ]
  },
  {
   "cell_type": "markdown",
   "metadata": {
    "id": "AseiCYEmGZv-"
   },
   "source": [
    "<div class=\"alert alert-info\">\n",
    "<b>Задание № 2</b>\n",
    "\n",
    "Даны две выборки роста мужчин и женщин.\n",
    "- Докажите, используя `t-Тест Стьдента`, что различие между выборками незначительно, если уровень значимости равен $\\alpha$ `= 0.001`.\n",
    "- Покажите различия визуально\n",
    "- Является ли результат полезным с практической точки зрения? Почему да или нет?\n",
    "</div>"
   ]
  },
  {
   "cell_type": "code",
   "execution_count": 4,
   "metadata": {
    "id": "7e39zGu1GZv-"
   },
   "outputs": [],
   "source": [
    "import numpy as np\n",
    "from scipy import stats\n",
    "\n",
    "np.random.seed(42) #фиксация случайности\n",
    "\n",
    "mens  = stats.norm.rvs(loc=171, scale=10, size=150000)  # Выборка мужчин со средним ростом 171\n",
    "womens = stats.norm.rvs(loc=170, scale=10, size=150000)  # Выборка женщин со средним ростом 170"
   ]
  },
  {
   "cell_type": "code",
   "execution_count": 18,
   "metadata": {},
   "outputs": [
    {
     "name": "stdout",
     "output_type": "stream",
     "text": [
      "Отклоняем нулевую гипотезу >> Различие между выборками статистически значимо\n"
     ]
    }
   ],
   "source": [
    "t_stat, p_value = stats.ttest_ind(mens, womens, equal_var=True)\n",
    "\n",
    "if p_value < 0.001:\n",
    "    print(\"Отклоняем нулевую гипотезу >> Различие между выборками статистически значимо\")\n",
    "else:\n",
    "    print(\"Не отклоняем нулевую гипотезу >> Различие между выборками незначительно\")\n"
   ]
  },
  {
   "cell_type": "code",
   "execution_count": 7,
   "metadata": {
    "scrolled": true
   },
   "outputs": [
    {
     "data": {
      "image/png": "[encoded data removed]",
      "text/plain": [
       "<Figure size 1000x600 with 1 Axes>"
      ]
     },
     "metadata": {},
     "output_type": "display_data"
    }
   ],
   "source": [
    "import matplotlib.pyplot as plt\n",
    "\n",
    "plt.figure(figsize=(10, 6))\n",
    "plt.hist(mens, bins=100, alpha=0.5, label='Мужчины', density=True)\n",
    "plt.hist(womens, bins=100, alpha=0.5, label='Женщины', density=True)\n",
    "plt.xlabel('Рост')\n",
    "plt.ylabel('Плотность')\n",
    "plt.title('Распределение роста мужчин и женщин')\n",
    "plt.legend()\n",
    "plt.show()"
   ]
  },
  {
   "cell_type": "code",
   "execution_count": 17,
   "metadata": {},
   "outputs": [
    {
     "data": {
      "text/plain": [
       "np.float64(1.033761414316217)"
      ]
     },
     "execution_count": 17,
     "metadata": {},
     "output_type": "execute_result"
    }
   ],
   "source": [
    "abs(mens.mean() - womens.mean())"
   ]
  },
  {
   "cell_type": "markdown",
   "metadata": {},
   "source": [
    "Так как разница между средними выборок всего 1 см, то с практической точки зрения это не является значимым отклонением, так как кол-во данных в выборках у нас достаточно большое "
   ]
  },
  {
   "cell_type": "markdown",
   "metadata": {
    "id": "pJYWS2hsGZwA"
   },
   "source": [
    "<div class=\"alert alert-info\">\n",
    "<b>Задание № 3</b>\n",
    "\n",
    "Специалист по кадрам, работающий в технологической компании, интересуется сверхурочным временем разных команд. Чтобы выяснить, есть ли разница между сверхурочной работой команды разработчиков программного обеспечения и группы тестирования, она случайным образом выбрала 17 сотрудников в каждой из двух команд и записала их среднее сверхурочное время за неделю в пересчете на час. Данные ниже.\n",
    "\n",
    "В соответствии с этой информацией проведите проверку гипотезы, чтобы проверить, есть ли разница между переутомлением двух команд, используя уровень значимости 0,05. Прежде чем приступать к проверке гипотез, проверьте предположение нормальности.\n",
    "</div>"
   ]
  },
  {
   "cell_type": "code",
   "execution_count": 25,
   "metadata": {
    "id": "4z72q2FzGZwA"
   },
   "outputs": [],
   "source": [
    "test_team = [6.2, 7.1, 1.5, 2,3 , 2, 1.5, 6.1, 2.4, 2.3, 12.4, 1.8, 5.3, 3.1, 9.4, 2.3, 4.1]\n",
    "developer_team = [2.3, 2.1, 1.4, 2.0, 8.7, 2.2, 3.1, 4.2, 3.6, 2.5, 3.1, 6.2, 12.1, 3.9, 2.2, 1.2 ,3.4]\n"
   ]
  },
  {
   "cell_type": "code",
   "execution_count": 27,
   "metadata": {},
   "outputs": [
    {
     "name": "stdout",
     "output_type": "stream",
     "text": [
      "Хотя бы одно распределение не нормальное\n"
     ]
    }
   ],
   "source": [
    "stat1, p_value1 = stats.shapiro(test_team)\n",
    "stat2, p_value2 = stats.shapiro(developer_team)\n",
    "\n",
    "if p_value1 > 0.05 and p_value2 > 0.05:\n",
    "    print(\"Оба распределения нормальные\")\n",
    "else:\n",
    "    print(\"Хотя бы одно распределение не нормальное\")"
   ]
  },
  {
   "cell_type": "code",
   "execution_count": 30,
   "metadata": {},
   "outputs": [
    {
     "name": "stdout",
     "output_type": "stream",
     "text": [
      "Не отклоняем нулевую гипотезу >> Нет разницы в переутомлении\n"
     ]
    }
   ],
   "source": [
    "u_stat, p_value = stats.mannwhitneyu(test_team, developer_team)\n",
    "\n",
    "if p_value < 0.05:\n",
    "    print(\"Отклоняем нулевую гипотезу >> Есть разница в переутомлении\")\n",
    "else:\n",
    "    print(\"Не отклоняем нулевую гипотезу >> Нет разницы в переутомлении\")\n"
   ]
  },
  {
   "cell_type": "markdown",
   "metadata": {
    "id": "tUZelZD5GZwB"
   },
   "source": [
    "<div class=\"alert alert-info\">\n",
    "<b>Задание № 4</b>\n",
    "\n",
    "Педиатр хочет увидеть влияние потребления смеси на среднемесячную прибавку в весе у новорожденных. По этой причине она собрала данные из трех разных групп. Первая группа – дети исключительно грудного вскармливания, вторая группа – дети, которых кормят только смесью, и последняя группа – это дети, находящиеся на искусственном вскармливании и на грудном вскармливании. Эти данные приведены ниже.\n",
    "\n",
    "В соответствии с этой информацией проведите проверку гипотезы, чтобы проверить, есть ли разница между среднемесячным приростом этих трех групп, используя уровень значимости 0,05. Если есть значительная разница, выполните дальнейший анализ, чтобы найти причину разницы.\n",
    "</div>"
   ]
  },
  {
   "cell_type": "code",
   "execution_count": 32,
   "metadata": {
    "id": "WYRMd6LnGZwB"
   },
   "outputs": [],
   "source": [
    "only_breast = [794.1, 716.9, 993. , 724.7, 760.9, 908.2, 659.3 , 690.8, 768.7, 717.3 , 630.7, 729.5, 714.1, 810.3, 583.5, 679.9, 865.1];\n",
    "only_formula = [898.8, 881.2, 940.2, 966.2, 957.5, 1061.7, 1046.2, 980.4, 895.6, 919.7, 1074.1, 952.5, 796.3, 859.6, 871.1 , 1047.5, 919.1 , 1160.5, 996.9];\n",
    "both = [976.4, 656.4, 861.2, 706.8, 718.5, 717.1, 759.8, 894.6, 867.6, 805.6, 765.4, 800.3, 789.9, 875.3, 740. , 799.4, 790.3, 795.2 , 823.6, 818.7, 926.8, 791.7, 948.3];"
   ]
  },
  {
   "cell_type": "code",
   "execution_count": 40,
   "metadata": {},
   "outputs": [
    {
     "name": "stdout",
     "output_type": "stream",
     "text": [
      "Все распределения нормальные\n"
     ]
    },
    {
     "data": {
      "text/plain": [
       "list"
      ]
     },
     "execution_count": 40,
     "metadata": {},
     "output_type": "execute_result"
    }
   ],
   "source": [
    "# Проверяем нормальность распределения каждой из 3-х групп\n",
    "stat1, p_value1 = stats.shapiro(only_breast)\n",
    "stat2, p_value2 = stats.shapiro(only_formula)\n",
    "stat3, p_value3 = stats.shapiro(both)\n",
    "\n",
    "\n",
    "if p_value1 > 0.05 and p_value2 > 0.05 and p_value3 > 0.05:\n",
    "    print(\"Все распределения нормальные\")\n",
    "else:\n",
    "    print(\"Хотя бы одно распределение не нормальное\")"
   ]
  },
  {
   "cell_type": "code",
   "execution_count": 36,
   "metadata": {},
   "outputs": [
    {
     "name": "stdout",
     "output_type": "stream",
     "text": [
      "Отклоняем нулевую гипотезу >> Есть разница в привесе младенцев между группами\n"
     ]
    }
   ],
   "source": [
    "# Проводим однофакторный дисперсионный анализ\n",
    "stat, p_value = stats.f_oneway(only_breast, only_formula, both)\n",
    "\n",
    "if p_value < 0.05:\n",
    "    print(\"Отклоняем нулевую гипотезу >> Есть разница в привесе младенцев между группами\")\n",
    "else:\n",
    "    print(\"Не отклоняем нулевую гипотезу >> Нет разницы в привесе младенцев между группами\")"
   ]
  },
  {
   "cell_type": "code",
   "execution_count": 49,
   "metadata": {},
   "outputs": [
    {
     "name": "stdout",
     "output_type": "stream",
     "text": [
      "Pairwise Group Comparisons (95.0% Confidence Interval)\n",
      "Comparison  Statistic  p-value  Lower CI  Upper CI\n",
      " (0 - 1)   -209.392     0.000  -281.434  -137.351\n",
      " (0 - 2)    -60.129     0.100  -129.149     8.891\n",
      " (1 - 0)    209.392     0.000   137.351   281.434\n",
      " (1 - 2)    149.264     0.000    82.365   216.162\n",
      " (2 - 0)     60.129     0.100    -8.891   129.149\n",
      " (2 - 1)   -149.264     0.000  -216.162   -82.365\n",
      "\n"
     ]
    }
   ],
   "source": [
    "result= stats.tukey_hsd(only_breast, only_formula, both)\n",
    "print(result)\n"
   ]
  },
  {
   "cell_type": "markdown",
   "metadata": {},
   "source": [
    "Опираясь на данные теста Тьюки можно сказать, что разница в привесе между теми, кто на грудном всармливании и на смесь достаточно значимая, т.к. р - 0, а доверит интервал не включает 0. Разница в привесе между теми, кто на грудном вскармливании и смещанном есть, но она незначительная, т.к. р > 0.05, а дов интервал включает 0. И разница в привесе между теми, кто на смеси и на смешинном вскармливании также значительная, т.к. р = 0, а дов интервал не включает 0. \n",
    "Это позволяет предположить, что смесь способствует большей прибавке в весе, чем грудное молоко, возможная причина: смесь может содержать больше калорий, чем грудное молоко"
   ]
  },
  {
   "cell_type": "markdown",
   "metadata": {
    "id": "O0LhesbhGZwH"
   },
   "source": [
    "<div class=\"alert alert-info\">\n",
    "<b>Задание № 5 (Опционально) </b>\n",
    "\n",
    "Аналитик финансовой инвестиционной компании интересуется взаимосвязью между полом и склонностью к риску. Из базы данных была взята случайная выборка из 660 клиентов. Клиенты в выборке были классифицированы в соответствии с их полом и склонностью к риску. Результат приведен в следующей таблице.\n",
    "    \n",
    "Проверьте гипотезу о том, что склонность к риску клиентов этой компании не зависит от их пола. Используйте α = 0.01.    \n",
    "</div>"
   ]
  },
  {
   "cell_type": "code",
   "execution_count": null,
   "metadata": {
    "id": "UP998NjNGZwI",
    "outputId": "594d4e97-97c7-4475-f572-6dcd187effec"
   },
   "outputs": [
    {
     "name": "stdout",
     "output_type": "stream",
     "text": [
      "Уровень риска\n",
      "    0   1   2   3    4\n",
      "Ж  53  23  30  36   88\n",
      "М  71  48  51  57  203\n"
     ]
    }
   ],
   "source": [
    "contingency_table = pd.DataFrame(\n",
    "    [\n",
    "        [53, 23, 30, 36, 88],\n",
    "        [71, 48, 51, 57, 203]\n",
    "    ],\n",
    "    #columns = ['Machine Learning', 'Data Science', 'Analytics'],\n",
    "    index = ['Ж', 'М'])\n",
    "\n",
    "print('Уровень риска')\n",
    "print(contingency_table)"
   ]
  },
  {
   "cell_type": "code",
   "execution_count": null,
   "metadata": {},
   "outputs": [],
   "source": []
  },
  {
   "cell_type": "markdown",
   "metadata": {
    "id": "nImsQh5LGZwM"
   },
   "source": [
    "<div class=\"alert alert-info\">\n",
    "<b>Задание № 6 (Опционально)</b>\n",
    "\n",
    "Компания электронной коммерции регулярно размещает рекламу своих кампаний на YouTube, Instagram и Facebook. Однако новому менеджеру было любопытно, есть ли разница между количеством клиентов, привлеченных этими платформами. Поэтому она начала использовать Adjust — приложение, позволяющее узнать, откуда приходят ваши пользователи. Ежедневные цифры, сообщаемые Adjust для каждой платформы, приведены ниже.\n",
    "    \n",
    "В соответствии с этой информацией проведите проверку гипотез, чтобы проверить, есть ли разница между средним числом привлеченных клиентов на этих трех платформах с использованием уровня значимости 0,05. Если есть значительная разница, выполните дальнейший анализ, чтобы найти причину разницы. Прежде чем приступать к проверке гипотез, проверьте соответствующие предположения.\n",
    "</div>"
   ]
  },
  {
   "cell_type": "code",
   "execution_count": null,
   "metadata": {
    "id": "Hrhaf-J0GZwN"
   },
   "outputs": [],
   "source": [
    "youtube=[1913, 1879, 1939, 2146, 2040, 2127, 2122, 2156, 2036, 1974, 1956, 2146, 2151, 1943, 2125]\n",
    "instagram = [2305., 2355., 2203., 2231., 2185., 2420., 2386., 2410., 2340., 2349., 2241., 2396., 2244., 2267., 2281.]\n",
    "facebook = [2133., 2522., 2124., 2551., 2293., 2367., 2460., 2311., 2178., 2113., 2048., 2443., 2265., 2095., 2528.]"
   ]
  },
  {
   "cell_type": "code",
   "execution_count": null,
   "metadata": {},
   "outputs": [],
   "source": []
  },
  {
   "cell_type": "markdown",
   "metadata": {
    "id": "If3qgUORDFBb"
   },
   "source": [
    "# **Примечание:**\n",
    "\n",
    "Домашнее задание сдается ссылкой [Google Colab](https://colab.research.google.com/). Мы не сможем проверить его или помочь, если вы пришлете:\n",
    "\n",
    "*   файлы;\n",
    "*   архивы;\n",
    "*   скриншоты кода.\n",
    "\n",
    "Все обсуждения и консультации по выполнению домашнего задания ведутся только на соответствующем канале в Discord.\n",
    "\n",
    "**Как правильно задавать вопросы аспирантам, преподавателям и коллегам:**\n",
    "\n",
    "Прежде чем задать вопрос, попробуйте найти ответ в интернете. Навык самостоятельного поиска информации — один из важнейших. Каждый практикующий специалист любого уровня делает это ежедневно.\n",
    "\n",
    "Сформулируйте вопрос по алгоритму:\n",
    "\n",
    "1.   Что я делаю?\n",
    "2.   Какого результата я ожидаю?\n",
    "3.   Как фактический результат отличается от ожидаемого?\n",
    "4.   Что я уже попробовал сделать, чтобы исправить проблему?\n",
    "\n",
    "По возможности прикрепите к вопросу скриншоты либо ссылки на код. Не выкладывайте все решение, оставляйте только проблемный и воспроизводимый участок кода."
   ]
  }
 ],
 "metadata": {
  "colab": {
   "provenance": []
  },
  "kernelspec": {
   "display_name": "Python 3 (ipykernel)",
   "language": "python",
   "name": "python3"
  },
  "language_info": {
   "codemirror_mode": {
    "name": "ipython",
    "version": 3
   },
   "file_extension": ".py",
   "mimetype": "text/x-python",
   "name": "python",
   "nbconvert_exporter": "python",
   "pygments_lexer": "ipython3",
   "version": "3.13.1"
  },
  "toc": {
   "base_numbering": 1,
   "nav_menu": {},
   "number_sections": true,
   "sideBar": true,
   "skip_h1_title": false,
   "title_cell": "Table of Contents",
   "title_sidebar": "Contents",
   "toc_cell": false,
   "toc_position": {},
   "toc_section_display": true,
   "toc_window_display": false
  }
 },
 "nbformat": 4,
 "nbformat_minor": 4
}
