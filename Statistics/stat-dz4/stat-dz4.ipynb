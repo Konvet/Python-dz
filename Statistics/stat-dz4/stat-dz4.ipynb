{
 "cells": [
  {
   "cell_type": "markdown",
   "metadata": {
    "id": "SOZozVNIGZwQ"
   },
   "source": [
    "## Домашнее задание к занятию \"A/B-тесты\""
   ]
  },
  {
   "cell_type": "markdown",
   "metadata": {
    "id": "N5Z4Rg7PGZwR"
   },
   "source": [
    "### Описание задачи\n",
    "\n",
    "![banner](https://storage.googleapis.com/kaggle-datasets-images/635/1204/126be74882028aac7241553cef0e27a7/dataset-original.jpg)\n",
    "\n",
    "Покемоны - это маленькие существа, которые сражаются друг с другом на соревнованиях. Все покемоны имеют разные характеристики (сила атаки, защиты и т. д.) И относятся к одному или двум так называемым классам (вода, огонь и т. д.).\n",
    "Профессор Оук является изобретателем Pokedex - портативного устройства, которое хранит информацию обо всех существующих покемонах. Как его ведущий специалист по данным, Вы только что получили от него запрос с просьбой осуществить аналитику данных на всех устройствах Pokedex.\n",
    "\n",
    "### Описание набора данных\n",
    "Профессор Оук скопировал все содержимое в память одного устройства Pokedex, в результате чего получился набор данных, с которым Вы будете работать в этой задаче. В этом файле каждая строка представляет характеристики одного покемона:\n",
    "\n",
    "* `pid`: Numeric - ID покемона\n",
    "* `HP`: Numeric - Очки здоровья\n",
    "* `Attack`: Numeric - Сила обычной атаки\n",
    "* `Defense`: Numeric - Сила обычной защиты\n",
    "* `Sp. Atk`: Numeric - Сила специальной атаки\n",
    "* `Sp. Def`: Numeric - Сила специальной защиты\n",
    "* `Speed`: Numeric - Скорость движений\n",
    "* `Legendary`: Boolean - «True», если покемон редкий\n",
    "* `Class 1`: Categorical - Класс покемона\n",
    "* `Class 2`: Categorical - Класс покемона"
   ]
  },
  {
   "cell_type": "code",
   "execution_count": 6,
   "metadata": {
    "colab": {
     "base_uri": "https://localhost:8080/",
     "height": 172
    },
    "id": "op1t0-0QGZwS",
    "outputId": "be3029cf-0c41-4bea-815f-ef74130e754a"
   },
   "outputs": [
    {
     "data": {
      "text/html": [
       "<div>\n",
       "<style scoped>\n",
       "    .dataframe tbody tr th:only-of-type {\n",
       "        vertical-align: middle;\n",
       "    }\n",
       "\n",
       "    .dataframe tbody tr th {\n",
       "        vertical-align: top;\n",
       "    }\n",
       "\n",
       "    .dataframe thead th {\n",
       "        text-align: right;\n",
       "    }\n",
       "</style>\n",
       "<table border=\"1\" class=\"dataframe\">\n",
       "  <thead>\n",
       "    <tr style=\"text-align: right;\">\n",
       "      <th></th>\n",
       "      <th>pid</th>\n",
       "      <th>Name</th>\n",
       "      <th>Class 1</th>\n",
       "      <th>Class 2</th>\n",
       "      <th>HP</th>\n",
       "      <th>Attack</th>\n",
       "      <th>Defense</th>\n",
       "      <th>Sp. Atk</th>\n",
       "      <th>Sp. Def</th>\n",
       "      <th>Speed</th>\n",
       "      <th>Legendary</th>\n",
       "    </tr>\n",
       "  </thead>\n",
       "  <tbody>\n",
       "    <tr>\n",
       "      <th>0</th>\n",
       "      <td>1</td>\n",
       "      <td>Bulbasaur</td>\n",
       "      <td>Grass</td>\n",
       "      <td>Poison</td>\n",
       "      <td>45</td>\n",
       "      <td>49</td>\n",
       "      <td>49</td>\n",
       "      <td>65</td>\n",
       "      <td>65</td>\n",
       "      <td>45</td>\n",
       "      <td>False</td>\n",
       "    </tr>\n",
       "    <tr>\n",
       "      <th>1</th>\n",
       "      <td>2</td>\n",
       "      <td>Ivysaur</td>\n",
       "      <td>Grass</td>\n",
       "      <td>Poison</td>\n",
       "      <td>60</td>\n",
       "      <td>62</td>\n",
       "      <td>63</td>\n",
       "      <td>80</td>\n",
       "      <td>80</td>\n",
       "      <td>60</td>\n",
       "      <td>False</td>\n",
       "    </tr>\n",
       "    <tr>\n",
       "      <th>2</th>\n",
       "      <td>3</td>\n",
       "      <td>Venusaur</td>\n",
       "      <td>Grass</td>\n",
       "      <td>Poison</td>\n",
       "      <td>80</td>\n",
       "      <td>82</td>\n",
       "      <td>83</td>\n",
       "      <td>100</td>\n",
       "      <td>100</td>\n",
       "      <td>80</td>\n",
       "      <td>False</td>\n",
       "    </tr>\n",
       "    <tr>\n",
       "      <th>3</th>\n",
       "      <td>4</td>\n",
       "      <td>Mega Venusaur</td>\n",
       "      <td>Grass</td>\n",
       "      <td>Poison</td>\n",
       "      <td>80</td>\n",
       "      <td>100</td>\n",
       "      <td>123</td>\n",
       "      <td>122</td>\n",
       "      <td>120</td>\n",
       "      <td>80</td>\n",
       "      <td>False</td>\n",
       "    </tr>\n",
       "    <tr>\n",
       "      <th>4</th>\n",
       "      <td>5</td>\n",
       "      <td>Charmander</td>\n",
       "      <td>Fire</td>\n",
       "      <td>NaN</td>\n",
       "      <td>39</td>\n",
       "      <td>52</td>\n",
       "      <td>43</td>\n",
       "      <td>60</td>\n",
       "      <td>50</td>\n",
       "      <td>65</td>\n",
       "      <td>False</td>\n",
       "    </tr>\n",
       "  </tbody>\n",
       "</table>\n",
       "</div>"
      ],
      "text/plain": [
       "   pid           Name Class 1 Class 2  HP  Attack  Defense  Sp. Atk  Sp. Def  \\\n",
       "0    1      Bulbasaur   Grass  Poison  45      49       49       65       65   \n",
       "1    2        Ivysaur   Grass  Poison  60      62       63       80       80   \n",
       "2    3       Venusaur   Grass  Poison  80      82       83      100      100   \n",
       "3    4  Mega Venusaur   Grass  Poison  80     100      123      122      120   \n",
       "4    5     Charmander    Fire     NaN  39      52       43       60       50   \n",
       "\n",
       "   Speed  Legendary  \n",
       "0     45      False  \n",
       "1     60      False  \n",
       "2     80      False  \n",
       "3     80      False  \n",
       "4     65      False  "
      ]
     },
     "execution_count": 6,
     "metadata": {},
     "output_type": "execute_result"
    }
   ],
   "source": [
    "import warnings\n",
    "# Отключение предупреждений (warnings)\n",
    "warnings.filterwarnings(\"ignore\")\n",
    "\n",
    "import pandas as pd\n",
    "\n",
    "from scipy.stats import ttest_ind\n",
    "from scipy.stats import f_oneway, shapiro\n",
    "\n",
    "pokemon = pd.read_csv('pokemon.csv', sep = ',')  # Откроем датасет\n",
    "pokemon.head()\n",
    "\n",
    "# Обратите внимание, что у покемона может быть один или два класса.\n",
    "# Если у покемона два класса, считается, что они имеют одинаковую значимость."
   ]
  },
  {
   "cell_type": "markdown",
   "metadata": {
    "id": "8KytW3mUGZwT"
   },
   "source": [
    "### Задачи"
   ]
  },
  {
   "cell_type": "markdown",
   "metadata": {
    "id": "i72--cvLGZwT"
   },
   "source": [
    "<div class=\"alert alert-info\">\n",
    "<b>Задание № 1:</b>\n",
    "    \n",
    "Профессор Оук подозревает, что покемоны в классе `Grass` имеют более сильную обычную атаку, чем покемоны в классе `Rock`. Проверьте, прав ли он, и убедите его в своём выводе статистически.\n",
    "    \n",
    "    \n",
    "Примечание: если есть покемоны, которые относятся к обоим классам, просто выбросьте их;\n",
    "    \n",
    "Вы можете предположить, что распределение обычных атак является нормальным для всех классов покемонов.\n",
    "\n",
    "</div>"
   ]
  },
  {
   "cell_type": "code",
   "execution_count": 11,
   "metadata": {},
   "outputs": [
    {
     "data": {
      "text/html": [
       "<div>\n",
       "<style scoped>\n",
       "    .dataframe tbody tr th:only-of-type {\n",
       "        vertical-align: middle;\n",
       "    }\n",
       "\n",
       "    .dataframe tbody tr th {\n",
       "        vertical-align: top;\n",
       "    }\n",
       "\n",
       "    .dataframe thead th {\n",
       "        text-align: right;\n",
       "    }\n",
       "</style>\n",
       "<table border=\"1\" class=\"dataframe\">\n",
       "  <thead>\n",
       "    <tr style=\"text-align: right;\">\n",
       "      <th></th>\n",
       "      <th>pid</th>\n",
       "      <th>Name</th>\n",
       "      <th>Class_1</th>\n",
       "      <th>Class_2</th>\n",
       "      <th>HP</th>\n",
       "      <th>Attack</th>\n",
       "      <th>Defense</th>\n",
       "      <th>Sp._Atk</th>\n",
       "      <th>Sp._Def</th>\n",
       "      <th>Speed</th>\n",
       "      <th>Legendary</th>\n",
       "    </tr>\n",
       "  </thead>\n",
       "  <tbody>\n",
       "    <tr>\n",
       "      <th>0</th>\n",
       "      <td>1</td>\n",
       "      <td>Bulbasaur</td>\n",
       "      <td>Grass</td>\n",
       "      <td>Poison</td>\n",
       "      <td>45</td>\n",
       "      <td>49</td>\n",
       "      <td>49</td>\n",
       "      <td>65</td>\n",
       "      <td>65</td>\n",
       "      <td>45</td>\n",
       "      <td>False</td>\n",
       "    </tr>\n",
       "    <tr>\n",
       "      <th>1</th>\n",
       "      <td>2</td>\n",
       "      <td>Ivysaur</td>\n",
       "      <td>Grass</td>\n",
       "      <td>Poison</td>\n",
       "      <td>60</td>\n",
       "      <td>62</td>\n",
       "      <td>63</td>\n",
       "      <td>80</td>\n",
       "      <td>80</td>\n",
       "      <td>60</td>\n",
       "      <td>False</td>\n",
       "    </tr>\n",
       "    <tr>\n",
       "      <th>2</th>\n",
       "      <td>3</td>\n",
       "      <td>Venusaur</td>\n",
       "      <td>Grass</td>\n",
       "      <td>Poison</td>\n",
       "      <td>80</td>\n",
       "      <td>82</td>\n",
       "      <td>83</td>\n",
       "      <td>100</td>\n",
       "      <td>100</td>\n",
       "      <td>80</td>\n",
       "      <td>False</td>\n",
       "    </tr>\n",
       "    <tr>\n",
       "      <th>3</th>\n",
       "      <td>4</td>\n",
       "      <td>Mega Venusaur</td>\n",
       "      <td>Grass</td>\n",
       "      <td>Poison</td>\n",
       "      <td>80</td>\n",
       "      <td>100</td>\n",
       "      <td>123</td>\n",
       "      <td>122</td>\n",
       "      <td>120</td>\n",
       "      <td>80</td>\n",
       "      <td>False</td>\n",
       "    </tr>\n",
       "    <tr>\n",
       "      <th>4</th>\n",
       "      <td>5</td>\n",
       "      <td>Charmander</td>\n",
       "      <td>Fire</td>\n",
       "      <td>NaN</td>\n",
       "      <td>39</td>\n",
       "      <td>52</td>\n",
       "      <td>43</td>\n",
       "      <td>60</td>\n",
       "      <td>50</td>\n",
       "      <td>65</td>\n",
       "      <td>False</td>\n",
       "    </tr>\n",
       "  </tbody>\n",
       "</table>\n",
       "</div>"
      ],
      "text/plain": [
       "   pid           Name Class_1 Class_2  HP  Attack  Defense  Sp._Atk  Sp._Def  \\\n",
       "0    1      Bulbasaur   Grass  Poison  45      49       49       65       65   \n",
       "1    2        Ivysaur   Grass  Poison  60      62       63       80       80   \n",
       "2    3       Venusaur   Grass  Poison  80      82       83      100      100   \n",
       "3    4  Mega Venusaur   Grass  Poison  80     100      123      122      120   \n",
       "4    5     Charmander    Fire     NaN  39      52       43       60       50   \n",
       "\n",
       "   Speed  Legendary  \n",
       "0     45      False  \n",
       "1     60      False  \n",
       "2     80      False  \n",
       "3     80      False  \n",
       "4     65      False  "
      ]
     },
     "execution_count": 11,
     "metadata": {},
     "output_type": "execute_result"
    }
   ],
   "source": [
    "pokemon.columns = pokemon.columns.str.replace(' ', '_')\n",
    "pokemon.head()"
   ]
  },
  {
   "cell_type": "code",
   "execution_count": 29,
   "metadata": {},
   "outputs": [
    {
     "name": "stdout",
     "output_type": "stream",
     "text": [
      "<class 'pandas.core.frame.DataFrame'>\n",
      "RangeIndex: 800 entries, 0 to 799\n",
      "Data columns (total 11 columns):\n",
      " #   Column     Non-Null Count  Dtype \n",
      "---  ------     --------------  ----- \n",
      " 0   pid        800 non-null    int64 \n",
      " 1   Name       799 non-null    object\n",
      " 2   Class_1    800 non-null    object\n",
      " 3   Class_2    414 non-null    object\n",
      " 4   HP         800 non-null    int64 \n",
      " 5   Attack     800 non-null    int64 \n",
      " 6   Defense    800 non-null    int64 \n",
      " 7   Sp._Atk    800 non-null    int64 \n",
      " 8   Sp._Def    800 non-null    int64 \n",
      " 9   Speed      800 non-null    int64 \n",
      " 10  Legendary  800 non-null    bool  \n",
      "dtypes: bool(1), int64(7), object(3)\n",
      "memory usage: 63.4+ KB\n"
     ]
    }
   ],
   "source": [
    "pokemon.info()"
   ]
  },
  {
   "cell_type": "code",
   "execution_count": 20,
   "metadata": {
    "id": "h6s6LL6mt17A"
   },
   "outputs": [
    {
     "name": "stdout",
     "output_type": "stream",
     "text": [
      "Профессор Оук прав. Покемоны типа Grass имеют статистически значимо более высокую обычную атаку, чем Rock.\n"
     ]
    }
   ],
   "source": [
    "# Фильтрация покемонов только либо в 1 классе, либо в др\n",
    "grass = (pokemon['Class_1'] == 'Grass') | (pokemon['Class_2'] == 'Grass')\n",
    "rock = (pokemon['Class_1'] == 'Rock') | (pokemon['Class_2'] == 'Rock')\n",
    "\n",
    "# Фильтрация покемонов, которые одновременно имеют оба классе\n",
    "both_types = (\n",
    "    (pokemon['Class_1'] == 'Grass') & (pokemon['Class_2'] == 'Rock')\n",
    ") | (\n",
    "    (pokemon['Class_1'] == 'Rock') & (pokemon['Class_2'] == 'Grass')\n",
    ")\n",
    "\n",
    "# Теперь оставляем тольео тех, кто имеет класс либо Grass, либо Rock\n",
    "grass_only = pokemon[grass & ~both_types]\n",
    "rock_only = pokemon[rock & ~both_types]\n",
    "\n",
    "# Выбираем значения Attack\n",
    "grass_attack = grass_only['Attack'].dropna()\n",
    "rock_attack = rock_only['Attack'].dropna()\n",
    "\n",
    "# Выполняем t-тест\n",
    "t_stat, p_value = ttest_ind(grass_attack, rock_attack, equal_var=True)\n",
    "\n",
    "if p_value < 0.05:\n",
    "    print(\"Покемоны типа Grass имеют статистически значимую разницу в обычной атаке в отличие от типа Rock.\")\n",
    "else:\n",
    "    print(\"Нет статистически значимой разницы в обычной атаке между Grass и Rock.\")"
   ]
  },
  {
   "cell_type": "markdown",
   "metadata": {
    "id": "KS2OVjmFGZwV"
   },
   "source": [
    "<div class=\"alert alert-info\">\n",
    "<b>Задание № 2:</b>\n",
    "    \n",
    "Профессор Оук уже долго не может спать по ночам, ведь его волнует вопрос, а правда ли, что покемоны в классе `Water` в среднем быстрее, чем покемоны в классе `Normal`.\n",
    "    \n",
    "    \n",
    "Проверьте, прав ли он, и убедите его в своём выводе статистически.\n",
    "    \n",
    "Примечание: если есть покемоны, которые относятся к обоим классам, выбросьте их;\n",
    "    \n",
    "Вы можете предположить, что распределение скорости движения является нормальным для всех классов покемонов.\n",
    "</div>"
   ]
  },
  {
   "cell_type": "code",
   "execution_count": 24,
   "metadata": {
    "id": "h_p9DQRzt3o_"
   },
   "outputs": [
    {
     "name": "stdout",
     "output_type": "stream",
     "text": [
      "Покемоны типа Water в среднем более быстрые, чем Normal.\n"
     ]
    }
   ],
   "source": [
    "# Фильтрация покемонов только либо в 1 классе, либо в др\n",
    "water = (pokemon['Class_1'] == 'Water') | (pokemon['Class_2'] == 'Water')\n",
    "normal = (pokemon['Class_1'] == 'Normal') | (pokemon['Class_2'] == 'Normal')\n",
    "\n",
    "# Фильтрация покемонов, которые одновременно имеют оба класса\n",
    "both_types = (\n",
    "    (pokemon['Class_1'] == 'Water') & (pokemon['Class_2'] == 'Normal')\n",
    ") | (\n",
    "    (pokemon['Class_1'] == 'Normal') & (pokemon['Class_2'] == 'Water')\n",
    ")\n",
    "\n",
    "# Теперь оставляем только тех, кто имеет класс либо Water, либо Normal\n",
    "water_only = pokemon[water & ~both_types]\n",
    "normal_only = pokemon[normal & ~both_types]\n",
    "\n",
    "# Выбираем значения Attack\n",
    "water_speed = water_only['Speed'].dropna()\n",
    "normal_speed = normal_only['Speed'].dropna()\n",
    "\n",
    "# Выполняем t-тест\n",
    "t_stat, p_value = ttest_ind(water_speed, normal_speed, equal_var=True)\n",
    "\n",
    "if p_value < 0.05:\n",
    "    print(\"Покемоны типа Water имеют статистически значимую разницу в скорости в отличие от типа Normal.\")\n",
    "else:\n",
    "    print(\"Нет статистически значимой разницы в скорости между Water и Normal.\")"
   ]
  },
  {
   "cell_type": "markdown",
   "metadata": {
    "id": "p9VPcdu-GZwb"
   },
   "source": [
    "<div class=\"alert alert-info\">\n",
    "<b>Задание № 3:</b>\n",
    "    \n",
    "Профессор Оук тот еще безумец. Он изобрёл сыворотку, способную ускорить покемона. Однако мы усомнились в эффективности его вакцины. Професоор дал эту сыворотку следующим покемонам: смотри массив `treathed_pokemon`. Проверьте, работает ли вообще его сыворотка, убедите всех в своём выводе статистически.\n",
    "    \n",
    "    \n",
    "Вы можете предположить, что распределение скорости движения является нормальным для всех классов покемонов.\n",
    "\n",
    "</div>"
   ]
  },
  {
   "cell_type": "code",
   "execution_count": 25,
   "metadata": {
    "id": "olGBBpq2GZwb"
   },
   "outputs": [],
   "source": [
    "# Покемоны, которые принимали сыворотку увеличения скорости\n",
    "treathed_pokemon = ['Mega Beedrill', 'Mega Alakazam',\n",
    "                    'Deoxys Normal Forme', 'Mega Lopunny']"
   ]
  },
  {
   "cell_type": "code",
   "execution_count": 65,
   "metadata": {
    "id": "2hxZ3wbxt5T7"
   },
   "outputs": [
    {
     "data": {
      "text/html": [
       "<div>\n",
       "<style scoped>\n",
       "    .dataframe tbody tr th:only-of-type {\n",
       "        vertical-align: middle;\n",
       "    }\n",
       "\n",
       "    .dataframe tbody tr th {\n",
       "        vertical-align: top;\n",
       "    }\n",
       "\n",
       "    .dataframe thead th {\n",
       "        text-align: right;\n",
       "    }\n",
       "</style>\n",
       "<table border=\"1\" class=\"dataframe\">\n",
       "  <thead>\n",
       "    <tr style=\"text-align: right;\">\n",
       "      <th></th>\n",
       "      <th>pid</th>\n",
       "      <th>Name</th>\n",
       "      <th>Class_1</th>\n",
       "      <th>Class_2</th>\n",
       "      <th>HP</th>\n",
       "      <th>Attack</th>\n",
       "      <th>Defense</th>\n",
       "      <th>Sp._Atk</th>\n",
       "      <th>Sp._Def</th>\n",
       "      <th>Speed</th>\n",
       "      <th>Legendary</th>\n",
       "    </tr>\n",
       "  </thead>\n",
       "  <tbody>\n",
       "  </tbody>\n",
       "</table>\n",
       "</div>"
      ],
      "text/plain": [
       "Empty DataFrame\n",
       "Columns: [pid, Name, Class_1, Class_2, HP, Attack, Defense, Sp._Atk, Sp._Def, Speed, Legendary]\n",
       "Index: []"
      ]
     },
     "execution_count": 65,
     "metadata": {},
     "output_type": "execute_result"
    }
   ],
   "source": [
    "# Фильтруем строки с этими покемонами\n",
    "treated_data = pokemon[pokemon['Name'].isin(treathed_pokemon)]\n",
    "\n",
    "# Выбираем скорости покемонов, получивших сыворотку\n",
    "treated_speed = treated_data['Speed'].dropna()\n",
    "\n",
    "# Выбираем скорости всех остальных покемонов\n",
    "all_others = pokemon[~pokemon['Name'].isin(treathed_pokemon)]\n",
    "others_speed = all_others['Speed'].dropna()\n",
    "\n",
    "# Выполняем t-тест\n",
    "t_stat, p_value = ttest_ind(others_speed, treated_speed, equal_var=True)\n",
    "\n",
    "if p_value < 0.05:\n",
    "    print('Есть статистически значимая разница в скорости покемонов')\n",
    "else:\n",
    "    print('Сыворотка не работает, скорость покемонов не отличается')"
   ]
  },
  {
   "cell_type": "markdown",
   "metadata": {
    "id": "IpgS6yk9GZwc"
   },
   "source": [
    "<div class=\"alert alert-info\">\n",
    "<b>Задание № 4:</b>\n",
    "    \n",
    "Профессор Оук всегда любил истории про легендарных покемонов. Однако профессор не очень уверен, что они лучше остальных покемонов. Оук предложил разобраться в этом нам. Проверьте, действительно ли сумма характеристик `HP`,`Attack`,`Defense` у легендарных покемонов выше, чем у других покемонов?\n",
    "\n",
    "А произведение этих же параметров?\n",
    "\n",
    "Найдите ответы на эти вопросы и убедите всех в своём выводе статистически.\n",
    "   \n",
    "\n",
    "Вы можете предположить, что распределение сум и произведений этих параметров является нормальным для всех классов покемонов.\n",
    "\n",
    "</div>"
   ]
  },
  {
   "cell_type": "code",
   "execution_count": 49,
   "metadata": {
    "id": "ah5AoxB1t8tA"
   },
   "outputs": [
    {
     "name": "stdout",
     "output_type": "stream",
     "text": [
      "Сумма между данными характеристиками у легендарных и обычных покемонов различается\n",
      "Произведение между данными характеристиками у легендарных и обычных покемонов различается\n"
     ]
    }
   ],
   "source": [
    "# Фильтруем покемонов, на ленегдарных и всеъ остальных\n",
    "legendary_pokemons = pokemon.loc[pokemon['Legendary'] == True].dropna()\n",
    "others_pokemons = pokemon.loc[pokemon['Legendary'] == False].dropna()\n",
    "\n",
    "# Считаем сумму хар-к для 2-х групп покемонов\n",
    "legendary_pokemons['sum'] = legendary_pokemons['HP'] + legendary_pokemons['Attack'] + legendary_pokemons['Defense']\n",
    "others_pokemons['sum'] = others_pokemons['HP'] + others_pokemons['Attack'] + others_pokemons['Defense']\n",
    "\n",
    "# Считаем произведение хар-к для 2-х групп покемонов\n",
    "legendary_pokemons['product'] = legendary_pokemons['HP'] * legendary_pokemons['Attack'] * legendary_pokemons['Defense']\n",
    "others_pokemons['product'] = others_pokemons['HP'] * others_pokemons['Attack'] * others_pokemons['Defense']\n",
    "\n",
    "# T-тест для суммы \n",
    "stat_sum, p_val_sum = ttest_ind(legendary_pokemons['sum'], others_pokemons['sum'])\n",
    "\n",
    "if p_val_sum < 0.05:\n",
    "    print('Сумма между данными характеристиками у легендарных и обычных покемонов различается')\n",
    "else:\n",
    "    print('Сумма между данными характеристиками у легендарных и обычных покемонов не различается')\n",
    "\n",
    "# T-тест для произведения\n",
    "stat_product, p_product = ttest_ind(legendary_pokemons['product'], others_pokemons['product'])\n",
    "\n",
    "if p_product < 0.05:\n",
    "    print('Произведение между данными характеристиками у легендарных и обычных покемонов различается')\n",
    "else:\n",
    "    print('Произведение между данными характеристиками у легендарных и обычных покемонов не различается')"
   ]
  },
  {
   "cell_type": "markdown",
   "metadata": {
    "id": "g9GwcheAGZwc"
   },
   "source": [
    "<div class=\"alert alert-info\">\n",
    "<b>Задание № 5:</b>\n",
    "    \n",
    "Профессор Оук частенько наблюдает за боями покемонов. После очередных таких боёв Оук выделил четыре класса `best_defence_class`, которые на его взгляд одинаковы по \"силе обычной защиты\" `Defense`.\n",
    "\n",
    "Проверьте, действительно ли эти классы покемонов не отличаются по уровню защиты статистически значимо? Всё та же статистика вам в помощь!\n",
    "   \n",
    "\n",
    "Вы можете предположить, что распределение параметров защитных характеристик является нормальным для всех классов покемонов.\n",
    "\n",
    "</div>"
   ]
  },
  {
   "cell_type": "code",
   "execution_count": 51,
   "metadata": {
    "colab": {
     "base_uri": "https://localhost:8080/"
    },
    "id": "F0w6ipNBGZwd",
    "outputId": "e20a4efd-dcf6-4730-8730-91f7fec544ea"
   },
   "outputs": [
    {
     "data": {
      "text/plain": [
       "['Rock', 'Ground', 'Steel', 'Ice']"
      ]
     },
     "execution_count": 51,
     "metadata": {},
     "output_type": "execute_result"
    }
   ],
   "source": [
    "best_defence_class = ['Rock', 'Ground', 'Steel', 'Ice']\n",
    "best_defence_class"
   ]
  },
  {
   "cell_type": "code",
   "execution_count": 67,
   "metadata": {
    "id": "pYOPHA9Xt_eF"
   },
   "outputs": [
    {
     "name": "stdout",
     "output_type": "stream",
     "text": [
      "Есть статистически значимые различия в уровне защиты между классами.\n"
     ]
    }
   ],
   "source": [
    "# Фильтруем покемонов, у которых хотя бы один из классов входит в best_defence_class\n",
    "mask = (pokemon['Class_1'].isin(best_defence_class)) | (pokemon['Class_2'].isin(best_defence_class))\n",
    "filtered_pokemon = pokemon[mask].dropna(subset=['Defense'])\n",
    "\n",
    "# Разделяем на 4 группы\n",
    "groups = []\n",
    "for cls in best_defence_class:\n",
    "    # Покемоны, у которых Class_1 или Class_2 == cls\n",
    "    class_mask = (filtered_pokemon['Class_1'] == cls) | (filtered_pokemon['Class_2'] == cls)\n",
    "    group_defense = filtered_pokemon[class_mask]['Defense'].dropna()\n",
    "    groups.append(group_defense)\n",
    "\n",
    "# Проводим дисперсионный анализ\n",
    "stat, p_value = f_oneway(*groups)\n",
    "\n",
    "if p_value < 0.05:\n",
    "    print('Есть статистически значимые различия в уровне защиты между классами.')\n",
    "else:\n",
    "    print('Нет статистически значимых различий в уровне защиты между классами.')"
   ]
  },
  {
   "cell_type": "markdown",
   "metadata": {
    "id": "If3qgUORDFBb"
   },
   "source": [
    "# **Примечание:**\n",
    "\n",
    "Домашнее задание сдается ссылкой [Google Colab](https://colab.research.google.com/). Мы не сможем проверить его или помочь, если вы пришлете:\n",
    "\n",
    "*   файлы;\n",
    "*   архивы;\n",
    "*   скриншоты кода.\n",
    "\n",
    "Все обсуждения и консультации по выполнению домашнего задания ведутся только на соответствующем канале в Discord.\n",
    "\n",
    "**Как правильно задавать вопросы аспирантам, преподавателям и коллегам:**\n",
    "\n",
    "Прежде чем задать вопрос, попробуйте найти ответ в интернете. Навык самостоятельного поиска информации — один из важнейших. Каждый практикующий специалист любого уровня делает это ежедневно.\n",
    "\n",
    "Сформулируйте вопрос по алгоритму:\n",
    "\n",
    "1.   Что я делаю?\n",
    "2.   Какого результата я ожидаю?\n",
    "3.   Как фактический результат отличается от ожидаемого?\n",
    "4.   Что я уже попробовал сделать, чтобы исправить проблему?\n",
    "\n",
    "По возможности прикрепите к вопросу скриншоты либо ссылки на код. Не выкладывайте все решение, оставляйте только проблемный и воспроизводимый участок кода."
   ]
  }
 ],
 "metadata": {
  "colab": {
   "provenance": []
  },
  "kernelspec": {
   "display_name": "Python 3 (ipykernel)",
   "language": "python",
   "name": "python3"
  },
  "language_info": {
   "codemirror_mode": {
    "name": "ipython",
    "version": 3
   },
   "file_extension": ".py",
   "mimetype": "text/x-python",
   "name": "python",
   "nbconvert_exporter": "python",
   "pygments_lexer": "ipython3",
   "version": "3.13.1"
  },
  "toc": {
   "base_numbering": 1,
   "nav_menu": {},
   "number_sections": true,
   "sideBar": true,
   "skip_h1_title": false,
   "title_cell": "Table of Contents",
   "title_sidebar": "Contents",
   "toc_cell": false,
   "toc_position": {},
   "toc_section_display": true,
   "toc_window_display": false
  }
 },
 "nbformat": 4,
 "nbformat_minor": 4
}
