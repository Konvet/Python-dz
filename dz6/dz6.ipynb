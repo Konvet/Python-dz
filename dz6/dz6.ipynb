{
 "cells": [
  {
   "cell_type": "markdown",
   "id": "92697ce3-e84f-4c71-85fd-27754776350c",
   "metadata": {},
   "source": [
    "Задание 1\n",
    "Печатные газеты использовали свой формат дат для каждого выпуска. Для каждой газеты из списка напишите формат указанной даты для перевода в объект datetime:\n",
    "The Moscow Times — Wednesday, October 2, 2002\n",
    "The Guardian — Friday, 11.10.13\n",
    "Daily News — Thursday, 18 August 1977\n"
   ]
  },
  {
   "cell_type": "code",
   "execution_count": 8,
   "id": "170e5c43-240c-43f8-9b39-27797b929559",
   "metadata": {},
   "outputs": [
    {
     "name": "stdout",
     "output_type": "stream",
     "text": [
      "2002-10-02 00:00:00\n",
      "2013-10-11 00:00:00\n",
      "1977-08-18 00:00:00\n"
     ]
    }
   ],
   "source": [
    "from datetime import datetime\n",
    "The_Moscow_Times  = 'Wednesday, October 2, 2002'\n",
    "new_Moscow_Time = datetime.strptime(The_Moscow_Times, '%A, %B %d, %Y')\n",
    "print(new_Moscow_Time)\n",
    "\n",
    "The_Guardian = 'Friday, 11.10.13'\n",
    "new_The_Guardian = datetime.strptime(The_Guardian, '%A, %d.%m.%y')\n",
    "print(new_The_Guardian)\n",
    "\n",
    "Daily_News = 'Thursday, 18 August 1977'\n",
    "new_Daily_News = datetime.strptime(Daily_News, '%A, %d %B %Y')\n",
    "print(new_Daily_News)"
   ]
  },
  {
   "cell_type": "markdown",
   "id": "cef16b13-4ec7-454f-8059-29ed6f080c3b",
   "metadata": {},
   "source": [
    "Задание 2\n",
    "Дан поток дат в формате YYYY-MM-DD, в которых встречаются некорректные значения:\n",
    "stream = ['2018-04-02', '2018-02-29', '2018-19-02']\n",
    "\n",
    "Напишите функцию, которая проверяет эти даты на корректность. То есть для каждой даты возвращает True — дата корректна или False — некорректная."
   ]
  },
  {
   "cell_type": "code",
   "execution_count": 13,
   "id": "410429c8-2174-4152-9cbe-123f9839a9be",
   "metadata": {},
   "outputs": [
    {
     "name": "stdout",
     "output_type": "stream",
     "text": [
      "2018-04-02 True\n",
      "2018-02-29 False\n",
      "2018-19-02 False\n"
     ]
    }
   ],
   "source": [
    "stream = ['2018-04-02', '2018-02-29', '2018-19-02']\n",
    "def correct_date():\n",
    "    for dt in stream:\n",
    "        try:\n",
    "         if datetime.strptime(dt, '%Y-%m-%d'):\n",
    "             print(f'{dt} True')\n",
    "        except ValueError:\n",
    "            print(f'{dt} False')\n",
    "correct_date()\n",
    "    "
   ]
  },
  {
   "cell_type": "code",
   "execution_count": null,
   "id": "af90868f-4cd2-4f41-8fba-72706a419be6",
   "metadata": {},
   "outputs": [],
   "source": [
    "Задание 3\n",
    "Напишите функцию date_range, которая возвращает список дат за период от start_date до end_date. \n",
    "Даты должны вводиться в формате YYYY-MM-DD. В случае неверного формата или при start_date > end_date должен возвращаться пустой список."
   ]
  },
  {
   "cell_type": "code",
   "execution_count": 68,
   "id": "cacd6235-629f-43e6-96ea-e80208bc8750",
   "metadata": {},
   "outputs": [
    {
     "name": "stdin",
     "output_type": "stream",
     "text": [
      "Введите начальную дату в формате YYYY-MM-DD: 2020-02-20\n",
      "Введите конечную дату в формате YYYY-MM-DD: 2020-02-10\n"
     ]
    },
    {
     "name": "stdout",
     "output_type": "stream",
     "text": [
      "[]\n"
     ]
    }
   ],
   "source": [
    "from datetime import timedelta\n",
    "\n",
    "def range_od_dates():\n",
    "    start_date = input('Введите начальную дату в формате YYYY-MM-DD:')\n",
    "    end_date = input('Введите конечную дату в формате YYYY-MM-DD:')\n",
    "    try:\n",
    "        start_date_dt = datetime.strptime(start_date, '%Y-%m-%d')\n",
    "        end_date_dt = datetime.strptime(end_date, '%Y-%m-%d')\n",
    "    except ValueError:\n",
    "        print([])\n",
    "        return\n",
    "        \n",
    "    if start_date_dt > end_date_dt:\n",
    "        print([])\n",
    "\n",
    "        \n",
    "    today = start_date_dt\n",
    "    while today <= end_date_dt:\n",
    "        print(today.strftime('%Y-%m-%d'))\n",
    "        today += timedelta(days = 1)\n",
    "\n",
    "range_od_dates()"
   ]
  },
  {
   "cell_type": "markdown",
   "id": "24b0f593-90fe-4ccc-ac14-83353c01535e",
   "metadata": {},
   "source": [
    "Задание 4 (необязательное)\n",
    "Ваш коллега прислал код функции:\n",
    "\n",
    "DEFAULT_USER_COUNT = 3\n",
    "\n",
    "def delete_and_return_last_user(region, default_list=[‘A100’, ‘A101’, ‘A102’]):\n",
    "\"\"“\n",
    "Удаляет из списка default_list последнего пользователя\n",
    "и возвращает ID нового последнего пользователя.\n",
    "”\"\"\n",
    "element_to_delete = default_list[-1]\n",
    "default_list.remove(element_to_delete)\n",
    "\n",
    "1\n",
    "return default_list[DEFAULT_USER_COUNT-2]\n",
    "При однократном вызове этой функции всё работает корректно:\n",
    "delete_and_return_last_user(1)\n",
    "‘A101’\n",
    "\n",
    "Однако при повторном вызове получается ошибка IndexError: list index out of range.\n",
    "\n",
    "Задание:\n",
    "\n",
    "Что значит ошибка list index out of range?\n",
    "Почему при первом запуске функция работает корректно, а при втором — нет?"
   ]
  },
  {
   "cell_type": "markdown",
   "id": "0cb2ebf1-97b4-4162-9fe6-2d2791cc209a",
   "metadata": {},
   "source": [
    "ОТВЕТЫ:\n",
    "1. list index out of range - это ошибка, которая сообщает о том, что такого индекса в этом объекте не существует.\n",
    "2. При первом запуске удаляется значение А102, после чего выводиться значение с индексом -1, т.е. А101. Так как в данном коде работают с исходным листом, а не копией, то получается, что наш список изменился после первой итерации и далее у нас набор значений [‘A100’, ‘A101’] и код во второй итерации удаляет значение А101, после чего остается только 1 значение А100, которое имеет индекс 0. Следовательно, при вызове значения с индексом -1 выдается ошибка, потому что у нас нет значения с таким индексом."
   ]
  }
 ],
 "metadata": {
  "kernelspec": {
   "display_name": "Python 3 (ipykernel)",
   "language": "python",
   "name": "python3"
  },
  "language_info": {
   "codemirror_mode": {
    "name": "ipython",
    "version": 3
   },
   "file_extension": ".py",
   "mimetype": "text/x-python",
   "name": "python",
   "nbconvert_exporter": "python",
   "pygments_lexer": "ipython3",
   "version": "3.13.1"
  }
 },
 "nbformat": 4,
 "nbformat_minor": 5
}
