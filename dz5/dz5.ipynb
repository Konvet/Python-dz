{
 "cells": [
  {
   "cell_type": "markdown",
   "id": "77db9c9e-1545-41d3-9ae5-d9f2a39ade3b",
   "metadata": {},
   "source": [
    "Переведите содержимое файла purchase_log.txt* в словарь purchases вида:\n",
    "{‘1840e0b9d4’: ‘Продукты’, …}"
   ]
  },
  {
   "cell_type": "code",
   "execution_count": 24,
   "id": "5b890ab1-8c3e-48b2-acff-38f0a96f4e03",
   "metadata": {},
   "outputs": [],
   "source": [
    "import json\n",
    "new_dict = {}\n",
    "\n",
    "def create_dict():\n",
    "    f = open('purchase_log.txt')\n",
    "    for i, line in enumerate(f):\n",
    "        if i == 0:\n",
    "            continue\n",
    "        new_file = json.loads(line.strip())\n",
    "        values = list(new_file.values())\n",
    "        new_dict[values[0]] = values[1]\n",
    "    f.close()\n",
    "create_dict()\n"
   ]
  },
  {
   "cell_type": "markdown",
   "id": "12e67327-8f47-4cb3-ae15-032568bdcfaa",
   "metadata": {},
   "source": [
    "Для каждого user_id в файле visit_log.csv определите третий столбец с категорией покупки, если покупка была, сам файл visit_log.csv* \n",
    "изменять не надо. Запишите в файл funnel.csv визиты из файла visit_log.csv*, в которых были покупки с указанием категории."
   ]
  },
  {
   "cell_type": "code",
   "execution_count": 25,
   "id": "f153791e-d21c-4a3b-bb64-7c4c75daa35c",
   "metadata": {},
   "outputs": [],
   "source": [
    "def new_file():\n",
    "    f1 = open('visit_log.csv')\n",
    "    content = f1.readlines()\n",
    "    f2 = open('funnel.csv', 'w')\n",
    "    for el in content:\n",
    "        new_str = el.strip('\\n').split(',')\n",
    "        value_from_dict = new_dict.get(new_str[0])\n",
    "        if value_from_dict:\n",
    "            new_str.append(value_from_dict)\n",
    "            f2.write(f'{new_str} \\n')\n",
    "    f1.close()\n",
    "    f2.close()\n",
    "new_file()\n",
    "    \n",
    "        \n",
    "    "
   ]
  }
 ],
 "metadata": {
  "kernelspec": {
   "display_name": "Python 3 (ipykernel)",
   "language": "python",
   "name": "python3"
  },
  "language_info": {
   "codemirror_mode": {
    "name": "ipython",
    "version": 3
   },
   "file_extension": ".py",
   "mimetype": "text/x-python",
   "name": "python",
   "nbconvert_exporter": "python",
   "pygments_lexer": "ipython3",
   "version": "3.13.1"
  }
 },
 "nbformat": 4,
 "nbformat_minor": 5
}
