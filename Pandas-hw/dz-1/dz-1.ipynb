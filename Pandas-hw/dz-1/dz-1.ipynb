{
 "cells": [
  {
   "cell_type": "code",
   "execution_count": 61,
   "id": "76a89ea4-f3f8-49d2-bd65-2ab576ce21a0",
   "metadata": {},
   "outputs": [],
   "source": [
    "import pandas as pd"
   ]
  },
  {
   "cell_type": "markdown",
   "id": "3f7c4f5b-78cd-47c8-81a4-14beb190c11a",
   "metadata": {},
   "source": [
    "Задание 1\n",
    "Определите, какому фильму было выставлено больше всего оценок 5.0."
   ]
  },
  {
   "cell_type": "code",
   "execution_count": 55,
   "id": "7addbdfe-9171-47b9-a48e-0484dd066351",
   "metadata": {},
   "outputs": [
    {
     "name": "stdout",
     "output_type": "stream",
     "text": [
      "Фильм с наибольшим количеством высоких оценок: Shawshank Redemption, The (1994)\n"
     ]
    }
   ],
   "source": [
    "df1 = pd.read_csv('ratings.csv')\n",
    "df2 = pd.read_csv('movies.csv')\n",
    "\n",
    "full_data = df1.merge(df2, on = 'movieId', how = 'inner')\n",
    "\n",
    "rating_5 = full_data[full_data['rating'] == 5.0]\n",
    "top_movie = rating_5.groupby(by = 'title')['rating'].count()\n",
    "best_movie = top_movie.sort_values(ascending = False).index[0]\n",
    "print(f'Фильм с наибольшим количеством высоких оценок: {best_movie}')"
   ]
  },
  {
   "cell_type": "markdown",
   "id": "4b09d708-e0e8-4497-806b-30f5444ab0f8",
   "metadata": {},
   "source": [
    "Задание 2\n",
    "По данным файла power.csv посчитайте суммарное потребление стран Прибалтики (Латвия, Литва и Эстония) категорий 4, 12 и 21 за период с 2005 по 2010 год. Не учитывайте в расчётах отрицательные значения quantity."
   ]
  },
  {
   "cell_type": "code",
   "execution_count": 59,
   "id": "a656f6ab-6ca3-4f51-be60-994f4506d271",
   "metadata": {},
   "outputs": [
    {
     "name": "stdout",
     "output_type": "stream",
     "text": [
      "Суммарное потребление энергии стран Прибалтики: 240580.0\n"
     ]
    }
   ],
   "source": [
    "power_df = pd.read_csv('power.csv')\n",
    "baltic_countries = ['Latvia', 'Lithuania', 'Estonia']\n",
    "categories = [4, 12, 21]\n",
    "\n",
    "filtered = power_df[\n",
    "    power_df['country'].isin(baltic_countries) &\n",
    "    power_df['category'].isin(categories) &\n",
    "    (power_df['year'] >= 2005) &\n",
    "    (power_df['year'] <= 2010) &\n",
    "    (power_df['quantity'] >= 0)\n",
    "]\n",
    "print(f'Суммарное потребление энергии стран Прибалтики: {filtered['quantity'].sum()}')"
   ]
  },
  {
   "cell_type": "markdown",
   "id": "ab5ceb0d-146d-4a1b-9840-f2c39756c9e6",
   "metadata": {},
   "source": [
    "Задание 3\n",
    "Выберите страницу любого сайта с табличными данными. Импортируйте таблицы в pandas DataFrame. Вы можете взять любые страницы."
   ]
  },
  {
   "cell_type": "code",
   "execution_count": null,
   "id": "1b065e8c-f62f-4f40-a66a-41d9db9c7167",
   "metadata": {},
   "outputs": [],
   "source": [
    "url = 'https://en.wikipedia.org/wiki/List_of_official_languages_by_country_and_territory'\n",
    "tables = pd.read_html(url)[0]\n",
    "print(tables.head())"
   ]
  }
 ],
 "metadata": {
  "kernelspec": {
   "display_name": "Python 3 (ipykernel)",
   "language": "python",
   "name": "python3"
  },
  "language_info": {
   "codemirror_mode": {
    "name": "ipython",
    "version": 3
   },
   "file_extension": ".py",
   "mimetype": "text/x-python",
   "name": "python",
   "nbconvert_exporter": "python",
   "pygments_lexer": "ipython3",
   "version": "3.13.1"
  }
 },
 "nbformat": 4,
 "nbformat_minor": 5
}
