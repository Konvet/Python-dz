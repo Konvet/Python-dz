{
  "nbformat": 4,
  "nbformat_minor": 0,
  "metadata": {
    "colab": {
      "provenance": [],
      "authorship_tag": "ABX9TyOdYEV7bsNkNDt2PVYHAHiC",
      "include_colab_link": true
    },
    "kernelspec": {
      "name": "python3",
      "display_name": "Python 3"
    },
    "language_info": {
      "name": "python"
    }
  },
  "cells": [
    {
      "cell_type": "markdown",
      "metadata": {
        "id": "view-in-github",
        "colab_type": "text"
      },
      "source": [
        "<a href=\"https://colab.research.google.com/github/Konvet/Python-dz/blob/main/dz4.ipynb\" target=\"_parent\"><img src=\"https://colab.research.google.com/assets/colab-badge.svg\" alt=\"Open In Colab\"/></a>"
      ]
    },
    {
      "cell_type": "markdown",
      "source": [
        "Вам нужно помочь секретарю автоматизировать работу.\n",
        "Для этого нужно написать программу, которая будет на основе хранимых данных исполнять пользовательские команды.\n",
        "Общие требования к программе:\n",
        "1) код должен быть грамотно декомпозирован: каждая функция отвечает за свою\n",
        "конкретную задачу, дублирующийся функционал переиспользуется, а его код не повторяется;\n",
        "2) в коде отсутствуют глобальные переменные, за исключением documents и directories;\n",
        "3) пользовательский ввод обрабатывается в цикле while до тех пор, пока пользователь явно не завершит программу вводом команды «q»."
      ],
      "metadata": {
        "id": "qbo0vYb8Uu9y"
      }
    },
    {
      "cell_type": "markdown",
      "source": [
        "Пункт 1. Пользователь по команде «p» может узнать владельца документа по его номеру."
      ],
      "metadata": {
        "id": "Nz4MnsB5Vavy"
      }
    },
    {
      "cell_type": "code",
      "source": [
        "import copy"
      ],
      "metadata": {
        "id": "ElBvS3eyeOWa"
      },
      "execution_count": null,
      "outputs": []
    },
    {
      "cell_type": "code",
      "execution_count": null,
      "metadata": {
        "id": "DveA4dt-S31s",
        "colab": {
          "base_uri": "https://localhost:8080/",
          "height": 53
        },
        "outputId": "a0e90ebc-2374-4efe-be6f-18f88048c826"
      },
      "outputs": [
        {
          "name": "stdout",
          "output_type": "stream",
          "text": [
            "Введите номер документа:11-2\n"
          ]
        },
        {
          "output_type": "execute_result",
          "data": {
            "text/plain": [
              "'Геннадий Покемонов'"
            ],
            "application/vnd.google.colaboratory.intrinsic+json": {
              "type": "string"
            }
          },
          "metadata": {},
          "execution_count": 3
        }
      ],
      "source": [
        "documents = [\n",
        "{'type': 'passport', 'number': '2207 876234', 'name': 'Василий Гупкин'},\n",
        "{'type': 'invoice', 'number': '11-2', 'name': 'Геннадий Покемонов'},\n",
        "{'type': 'insurance', 'number': '10006', 'name': 'Аристарх Павлов'}\n",
        "]\n",
        "\n",
        "directories = {\n",
        "'1': ['2207 876234', '11-2'],\n",
        "'2': ['10006'],\n",
        "'3': []\n",
        "}\n",
        "\n",
        "\n",
        "def user_number(number_input):\n",
        "  result = 'Документ не найден в базе'\n",
        "  for docs in documents:\n",
        "    if number_input == docs['number']:\n",
        "      result = docs['name']\n",
        "  return result\n",
        "user_number(str(input('Введите номер документа:')))"
      ]
    },
    {
      "cell_type": "markdown",
      "source": [
        "Пункт 2. Пользователь по команде «s» может по номеру документа узнать, на какой полке он хранится."
      ],
      "metadata": {
        "id": "dPm0nhyEUnDm"
      }
    },
    {
      "cell_type": "code",
      "source": [
        "def shelf_number(number_input):\n",
        "  result = 'Документ не найден в базе'\n",
        "  for k, v in directories.items():\n",
        "    if number_input in v:\n",
        "      result = 'Документ хранится на полке: ' + k\n",
        "  return result\n",
        "shelf_number(str(input('Введите номер документа:')))"
      ],
      "metadata": {
        "colab": {
          "base_uri": "https://localhost:8080/",
          "height": 53
        },
        "id": "SsL_IMMWf95b",
        "outputId": "bb212872-5865-49da-e086-6907c4845513"
      },
      "execution_count": null,
      "outputs": [
        {
          "name": "stdout",
          "output_type": "stream",
          "text": [
            "Введите номер документа:1\n"
          ]
        },
        {
          "output_type": "execute_result",
          "data": {
            "text/plain": [
              "'Документ не найден в базе'"
            ],
            "application/vnd.google.colaboratory.intrinsic+json": {
              "type": "string"
            }
          },
          "metadata": {},
          "execution_count": 4
        }
      ]
    },
    {
      "cell_type": "markdown",
      "source": [
        "Пункт 3. Пользователь по команде «l» может увидеть полную информацию по всем документам.\n"
      ],
      "metadata": {
        "id": "zRgKGFeClI-o"
      }
    },
    {
      "cell_type": "code",
      "source": [
        "def all_information():\n",
        "  copy_documents = documents.copy()\n",
        "  result = ''\n",
        "  for docs in copy_documents:\n",
        "    shelf = 'Не найдено'\n",
        "    for k, v in directories.items():\n",
        "       if docs['number'] in v:\n",
        "          shelf = k\n",
        "          break\n",
        "    result += f\"№: {docs['number']}, тип: {docs['type']}, владелец: {docs['name']}, полка хранения: {shelf}\\n\"\n",
        "  return result\n",
        "all_information()\n"
      ],
      "metadata": {
        "colab": {
          "base_uri": "https://localhost:8080/",
          "height": 53
        },
        "id": "TRMgKg71lsyQ",
        "outputId": "d38a648e-4cd3-4bd6-c9b1-ecf79a73fd8c"
      },
      "execution_count": null,
      "outputs": [
        {
          "output_type": "execute_result",
          "data": {
            "text/plain": [
              "'№: 2207 876234, тип: passport, владелец: Василий Гупкин, полка хранения: 1\\n№: 11-2, тип: invoice, владелец: Геннадий Покемонов, полка хранения: 1\\n№: 10006, тип: insurance, владелец: Аристарх Павлов, полка хранения: 2\\n'"
            ],
            "application/vnd.google.colaboratory.intrinsic+json": {
              "type": "string"
            }
          },
          "metadata": {},
          "execution_count": 6
        }
      ]
    },
    {
      "cell_type": "markdown",
      "source": [
        "Пункт 4. Пользователь по команде «ads» может добавить новую полку."
      ],
      "metadata": {
        "id": "_cuxN-Jf_xPJ"
      }
    },
    {
      "cell_type": "code",
      "source": [
        "def add_shelf(new_shelf):\n",
        "  copy_directories = directories.copy()\n",
        "  if new_shelf in copy_directories:\n",
        "    return f\"Такая полка уже существует. Текущий перечень полок: {', '.join(copy_directories.keys())}\"\n",
        "  else:\n",
        "    copy_directories[new_shelf] = []\n",
        "    return  f\"Полка добавлена. Текущий перечень полок: {', '.join(copy_directories.keys())}\"\n",
        "add_shelf(str(input('Введите номер полки:')))"
      ],
      "metadata": {
        "colab": {
          "base_uri": "https://localhost:8080/",
          "height": 53
        },
        "id": "Z3LsY6j5_w3q",
        "outputId": "8b79e15b-bdb9-4a76-dd46-14d884600f5b"
      },
      "execution_count": null,
      "outputs": [
        {
          "name": "stdout",
          "output_type": "stream",
          "text": [
            "Введите номер полки:1\n"
          ]
        },
        {
          "output_type": "execute_result",
          "data": {
            "text/plain": [
              "'Такая полка уже существует. Текущий перечень полок: 1, 2, 3'"
            ],
            "application/vnd.google.colaboratory.intrinsic+json": {
              "type": "string"
            }
          },
          "metadata": {},
          "execution_count": 7
        }
      ]
    },
    {
      "cell_type": "markdown",
      "source": [
        "Пункт 5. Пользователь по команде «ds» может удалить существующую полку из данных, только если она пустая."
      ],
      "metadata": {
        "id": "-BjMMLorfJ1F"
      }
    },
    {
      "cell_type": "code",
      "source": [
        "def delete_shelf(shelf_number):\n",
        "  copy_directories = directories.copy()\n",
        "  if shelf_number not in copy_directories:\n",
        "    return f\"Такой полки не существует. Текущий перечень полок: {', '.join(copy_directories.keys())}\"\n",
        "  if len(copy_directories[shelf_number]) > 0:\n",
        "    return f\"На полке есть документы, удалите их перед удалением полки. Текущий перечень полок: {', '.join(copy_directories.keys())}\"\n",
        "  else:\n",
        "    del copy_directories[shelf_number]\n",
        "    return f\"Полка удалена. Текущий перечень полок: {', '.join(copy_directories.keys())}\"\n",
        "delete_shelf(str(input('Введите номер полки:')))"
      ],
      "metadata": {
        "colab": {
          "base_uri": "https://localhost:8080/",
          "height": 53
        },
        "id": "cUKHZUlhU1nI",
        "outputId": "a5639cce-177e-4c6b-e04e-cfd54b2a4036"
      },
      "execution_count": null,
      "outputs": [
        {
          "name": "stdout",
          "output_type": "stream",
          "text": [
            "Введите номер полки:3\n"
          ]
        },
        {
          "output_type": "execute_result",
          "data": {
            "text/plain": [
              "'Полка удалена. Текущий перечень полок: 1, 2'"
            ],
            "application/vnd.google.colaboratory.intrinsic+json": {
              "type": "string"
            }
          },
          "metadata": {},
          "execution_count": 8
        }
      ]
    },
    {
      "cell_type": "markdown",
      "source": [
        "Общая функция"
      ],
      "metadata": {
        "id": "_wuQ-51Vj3jZ"
      }
    },
    {
      "cell_type": "code",
      "source": [
        "def main():\n",
        "  while True:\n",
        "    data_input = str(input('Введите команду (или \"q\" для выхода):'))\n",
        "    if data_input == 'p':\n",
        "      print((user_number(str(input('Введите номер документа:')))))\n",
        "    elif data_input == 's':\n",
        "      print(shelf_number(str(input('Введите номер документа:'))))\n",
        "    elif data_input == 'l':\n",
        "      print(all_information())\n",
        "    elif data_input == 'ads':\n",
        "      print(add_shelf(str(input('Введите номер полки:'))))\n",
        "    elif data_input == 'ds':\n",
        "      print(delete_shelf(str(input('Введите номер полки:'))))\n",
        "    elif data_input == 'q':\n",
        "      break\n",
        "main()"
      ],
      "metadata": {
        "colab": {
          "base_uri": "https://localhost:8080/"
        },
        "id": "ce0PfRT4j6Xl",
        "outputId": "8aaef464-49d3-4e6c-af38-b1b5d67e1ce8"
      },
      "execution_count": null,
      "outputs": [
        {
          "name": "stdout",
          "output_type": "stream",
          "text": [
            "Введите команду (или \"q\" для выхода):l\n",
            "№: 2207 876234, тип: passport, владелец: Василий Гупкин, полка хранения: 1\n",
            "№: 11-2, тип: invoice, владелец: Геннадий Покемонов, полка хранения: 1\n",
            "№: 10006, тип: insurance, владелец: Аристарх Павлов, полка хранения: 2\n",
            "\n",
            "Введите команду (или \"q\" для выхода):ads\n",
            "Введите номер полки:11\n",
            "Полка добавлена. Текущий перечень полок: 1, 2, 3, 11\n",
            "Введите команду (или \"q\" для выхода):ds\n",
            "Введите номер полки:3\n",
            "Полка удалена. Текущий перечень полок: 1, 2\n",
            "Введите команду (или \"q\" для выхода):q\n"
          ]
        }
      ]
    }
  ]
}